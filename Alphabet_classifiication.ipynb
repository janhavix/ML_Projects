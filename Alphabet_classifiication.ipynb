{
 "cells": [
  {
   "cell_type": "markdown",
   "id": "711c656e",
   "metadata": {},
   "source": [
    "# Handwritten Letter Classification "
   ]
  },
  {
   "cell_type": "code",
   "execution_count": null,
   "id": "f477ddc1",
   "metadata": {},
   "outputs": [],
   "source": [
    "dataset_url=\"https://www.kaggle.com/datasets/munemshahriar642/english-typed-font-in-csv\""
   ]
  },
  {
   "cell_type": "code",
   "execution_count": 8,
   "id": "73a48c30",
   "metadata": {},
   "outputs": [],
   "source": [
    "import pandas as pd"
   ]
  },
  {
   "cell_type": "code",
   "execution_count": 15,
   "id": "fee08e42",
   "metadata": {},
   "outputs": [],
   "source": [
    "df=pd.read_csv('C:/Users/Janhavi/TCS ML/english-typed-font-in-csv/typedCSV.csv')"
   ]
  },
  {
   "cell_type": "code",
   "execution_count": 16,
   "id": "0d400e55",
   "metadata": {},
   "outputs": [
    {
     "data": {
      "text/html": [
       "<div>\n",
       "<style scoped>\n",
       "    .dataframe tbody tr th:only-of-type {\n",
       "        vertical-align: middle;\n",
       "    }\n",
       "\n",
       "    .dataframe tbody tr th {\n",
       "        vertical-align: top;\n",
       "    }\n",
       "\n",
       "    .dataframe thead th {\n",
       "        text-align: right;\n",
       "    }\n",
       "</style>\n",
       "<table border=\"1\" class=\"dataframe\">\n",
       "  <thead>\n",
       "    <tr style=\"text-align: right;\">\n",
       "      <th></th>\n",
       "      <th>label</th>\n",
       "      <th>pixel 0</th>\n",
       "      <th>pixel 1</th>\n",
       "      <th>pixel 2</th>\n",
       "      <th>pixel 3</th>\n",
       "      <th>pixel 4</th>\n",
       "      <th>pixel 5</th>\n",
       "      <th>pixel 6</th>\n",
       "      <th>pixel 7</th>\n",
       "      <th>pixel 8</th>\n",
       "      <th>...</th>\n",
       "      <th>pixel 774</th>\n",
       "      <th>pixel 775</th>\n",
       "      <th>pixel 776</th>\n",
       "      <th>pixel 777</th>\n",
       "      <th>pixel 778</th>\n",
       "      <th>pixel 779</th>\n",
       "      <th>pixel 780</th>\n",
       "      <th>pixel 781</th>\n",
       "      <th>pixel 782</th>\n",
       "      <th>pixel 783</th>\n",
       "    </tr>\n",
       "  </thead>\n",
       "  <tbody>\n",
       "    <tr>\n",
       "      <th>0</th>\n",
       "      <td>0</td>\n",
       "      <td>255</td>\n",
       "      <td>255</td>\n",
       "      <td>255</td>\n",
       "      <td>255</td>\n",
       "      <td>255</td>\n",
       "      <td>255</td>\n",
       "      <td>255</td>\n",
       "      <td>255</td>\n",
       "      <td>253</td>\n",
       "      <td>...</td>\n",
       "      <td>250</td>\n",
       "      <td>255</td>\n",
       "      <td>255</td>\n",
       "      <td>251</td>\n",
       "      <td>255</td>\n",
       "      <td>255</td>\n",
       "      <td>255</td>\n",
       "      <td>255</td>\n",
       "      <td>255</td>\n",
       "      <td>255</td>\n",
       "    </tr>\n",
       "    <tr>\n",
       "      <th>1</th>\n",
       "      <td>0</td>\n",
       "      <td>255</td>\n",
       "      <td>255</td>\n",
       "      <td>255</td>\n",
       "      <td>255</td>\n",
       "      <td>255</td>\n",
       "      <td>255</td>\n",
       "      <td>255</td>\n",
       "      <td>255</td>\n",
       "      <td>255</td>\n",
       "      <td>...</td>\n",
       "      <td>254</td>\n",
       "      <td>255</td>\n",
       "      <td>255</td>\n",
       "      <td>255</td>\n",
       "      <td>249</td>\n",
       "      <td>253</td>\n",
       "      <td>255</td>\n",
       "      <td>255</td>\n",
       "      <td>255</td>\n",
       "      <td>255</td>\n",
       "    </tr>\n",
       "    <tr>\n",
       "      <th>2</th>\n",
       "      <td>0</td>\n",
       "      <td>255</td>\n",
       "      <td>255</td>\n",
       "      <td>255</td>\n",
       "      <td>255</td>\n",
       "      <td>255</td>\n",
       "      <td>255</td>\n",
       "      <td>255</td>\n",
       "      <td>255</td>\n",
       "      <td>254</td>\n",
       "      <td>...</td>\n",
       "      <td>255</td>\n",
       "      <td>255</td>\n",
       "      <td>255</td>\n",
       "      <td>255</td>\n",
       "      <td>255</td>\n",
       "      <td>255</td>\n",
       "      <td>255</td>\n",
       "      <td>255</td>\n",
       "      <td>255</td>\n",
       "      <td>255</td>\n",
       "    </tr>\n",
       "    <tr>\n",
       "      <th>3</th>\n",
       "      <td>0</td>\n",
       "      <td>255</td>\n",
       "      <td>255</td>\n",
       "      <td>255</td>\n",
       "      <td>255</td>\n",
       "      <td>255</td>\n",
       "      <td>255</td>\n",
       "      <td>255</td>\n",
       "      <td>255</td>\n",
       "      <td>255</td>\n",
       "      <td>...</td>\n",
       "      <td>255</td>\n",
       "      <td>255</td>\n",
       "      <td>255</td>\n",
       "      <td>255</td>\n",
       "      <td>255</td>\n",
       "      <td>255</td>\n",
       "      <td>255</td>\n",
       "      <td>255</td>\n",
       "      <td>255</td>\n",
       "      <td>255</td>\n",
       "    </tr>\n",
       "    <tr>\n",
       "      <th>4</th>\n",
       "      <td>0</td>\n",
       "      <td>255</td>\n",
       "      <td>253</td>\n",
       "      <td>255</td>\n",
       "      <td>253</td>\n",
       "      <td>251</td>\n",
       "      <td>255</td>\n",
       "      <td>254</td>\n",
       "      <td>255</td>\n",
       "      <td>255</td>\n",
       "      <td>...</td>\n",
       "      <td>255</td>\n",
       "      <td>255</td>\n",
       "      <td>253</td>\n",
       "      <td>253</td>\n",
       "      <td>255</td>\n",
       "      <td>255</td>\n",
       "      <td>255</td>\n",
       "      <td>255</td>\n",
       "      <td>255</td>\n",
       "      <td>255</td>\n",
       "    </tr>\n",
       "  </tbody>\n",
       "</table>\n",
       "<p>5 rows × 785 columns</p>\n",
       "</div>"
      ],
      "text/plain": [
       "   label  pixel 0  pixel 1  pixel 2  pixel 3  pixel 4  pixel 5  pixel 6  \\\n",
       "0      0      255      255      255      255      255      255      255   \n",
       "1      0      255      255      255      255      255      255      255   \n",
       "2      0      255      255      255      255      255      255      255   \n",
       "3      0      255      255      255      255      255      255      255   \n",
       "4      0      255      253      255      253      251      255      254   \n",
       "\n",
       "   pixel 7  pixel 8  ...  pixel 774  pixel 775  pixel 776  pixel 777  \\\n",
       "0      255      253  ...        250        255        255        251   \n",
       "1      255      255  ...        254        255        255        255   \n",
       "2      255      254  ...        255        255        255        255   \n",
       "3      255      255  ...        255        255        255        255   \n",
       "4      255      255  ...        255        255        253        253   \n",
       "\n",
       "   pixel 778  pixel 779  pixel 780  pixel 781  pixel 782  pixel 783  \n",
       "0        255        255        255        255        255        255  \n",
       "1        249        253        255        255        255        255  \n",
       "2        255        255        255        255        255        255  \n",
       "3        255        255        255        255        255        255  \n",
       "4        255        255        255        255        255        255  \n",
       "\n",
       "[5 rows x 785 columns]"
      ]
     },
     "execution_count": 16,
     "metadata": {},
     "output_type": "execute_result"
    }
   ],
   "source": [
    "df.head()"
   ]
  },
  {
   "cell_type": "code",
   "execution_count": 17,
   "id": "fe8348e9",
   "metadata": {},
   "outputs": [
    {
     "data": {
      "text/plain": [
       "(62992, 785)"
      ]
     },
     "execution_count": 17,
     "metadata": {},
     "output_type": "execute_result"
    }
   ],
   "source": [
    "df.shape"
   ]
  },
  {
   "cell_type": "code",
   "execution_count": 18,
   "id": "d1e58b9b",
   "metadata": {},
   "outputs": [],
   "source": [
    "df=df[df['label'].isin(list(range(10,36)))]"
   ]
  },
  {
   "cell_type": "code",
   "execution_count": 19,
   "id": "140cb8f5",
   "metadata": {},
   "outputs": [
    {
     "data": {
      "text/plain": [
       "(26416, 785)"
      ]
     },
     "execution_count": 19,
     "metadata": {},
     "output_type": "execute_result"
    }
   ],
   "source": [
    "df.shape"
   ]
  },
  {
   "cell_type": "code",
   "execution_count": 20,
   "id": "5da143fa",
   "metadata": {},
   "outputs": [],
   "source": [
    "X=df.drop('label', axis=1)\n",
    "y=df[['label']]"
   ]
  },
  {
   "cell_type": "code",
   "execution_count": 22,
   "id": "f46224f3",
   "metadata": {},
   "outputs": [],
   "source": [
    "from sklearn.model_selection import train_test_split"
   ]
  },
  {
   "cell_type": "code",
   "execution_count": 23,
   "id": "cfc8bd87",
   "metadata": {},
   "outputs": [],
   "source": [
    "X_train, X_test, y_train, y_test = train_test_split(X, y, test_size=0.2, random_state=42)"
   ]
  },
  {
   "cell_type": "code",
   "execution_count": 24,
   "id": "add6041f",
   "metadata": {},
   "outputs": [],
   "source": [
    "X_train, X_test= X_train/ 255.0, X_test/ 255.0"
   ]
  },
  {
   "cell_type": "code",
   "execution_count": 26,
   "id": "f390defb",
   "metadata": {},
   "outputs": [],
   "source": [
    "import numpy as np"
   ]
  },
  {
   "cell_type": "code",
   "execution_count": 27,
   "id": "8d9ed13c",
   "metadata": {},
   "outputs": [],
   "source": [
    "X_train = np.reshape(X_train.values, (X_train.shape[0], 28,28)) \n",
    "X_test = np.reshape(X_test.values, (X_test.shape[0], 28,28))"
   ]
  },
  {
   "cell_type": "code",
   "execution_count": 28,
   "id": "5fbc9f94",
   "metadata": {},
   "outputs": [],
   "source": [
    "X_train = X_train.reshape(X_train.shape[0], X_train.shape[1], X_train.shape[2],1)\n",
    "X_test =  X_test.reshape(X_test.shape[0],  X_test.shape[1],  X_test.shape[2],1)"
   ]
  },
  {
   "cell_type": "code",
   "execution_count": 29,
   "id": "15440c51",
   "metadata": {},
   "outputs": [],
   "source": [
    "ytr_ohe=pd.get_dummies(y_train['label']).to_numpy()\n",
    "ytst_ohe=pd.get_dummies(y_test['label']).to_numpy()"
   ]
  },
  {
   "cell_type": "code",
   "execution_count": 2,
   "id": "fbcd48d7",
   "metadata": {},
   "outputs": [],
   "source": [
    "import string\n",
    "letrs_dict=dict(zip( range(26),string.ascii_uppercase))"
   ]
  },
  {
   "cell_type": "code",
   "execution_count": 4,
   "id": "dea3f1b7",
   "metadata": {},
   "outputs": [
    {
     "data": {
      "text/plain": [
       "list[{0: 'A', 1: 'B', 2: 'C', 3: 'D', 4: 'E', 5: 'F', 6: 'G', 7: 'H', 8: 'I', 9: 'J', 10: 'K', 11: 'L', 12: 'M', 13: 'N', 14: 'O', 15: 'P', 16: 'Q', 17: 'R', 18: 'S', 19: 'T', 20: 'U', 21: 'V', 22: 'W', 23: 'X', 24: 'Y', 25: 'Z'}]"
      ]
     },
     "execution_count": 4,
     "metadata": {},
     "output_type": "execute_result"
    }
   ],
   "source": [
    "list[letrs_dict]"
   ]
  },
  {
   "cell_type": "code",
   "execution_count": 37,
   "id": "88667827",
   "metadata": {},
   "outputs": [
    {
     "name": "stdout",
     "output_type": "stream",
     "text": [
      "WARNING:tensorflow:From C:\\Users\\Janhavi\\anaconda3\\lib\\site-packages\\keras\\src\\losses.py:2976: The name tf.losses.sparse_softmax_cross_entropy is deprecated. Please use tf.compat.v1.losses.sparse_softmax_cross_entropy instead.\n",
      "\n"
     ]
    }
   ],
   "source": [
    "from keras.models import Sequential\n",
    "from keras.layers import Dense, Flatten, Conv2D, MaxPool2D, Dropout\n",
    "from keras.optimizers import SGD, Adam\n",
    "from keras.callbacks import ReduceLROnPlateau, EarlyStopping\n",
    "from tensorflow.keras.regularizers import l2"
   ]
  },
  {
   "cell_type": "code",
   "execution_count": 38,
   "id": "bcc41ec1",
   "metadata": {},
   "outputs": [
    {
     "name": "stdout",
     "output_type": "stream",
     "text": [
      "WARNING:tensorflow:From C:\\Users\\Janhavi\\anaconda3\\lib\\site-packages\\keras\\src\\backend.py:873: The name tf.get_default_graph is deprecated. Please use tf.compat.v1.get_default_graph instead.\n",
      "\n",
      "WARNING:tensorflow:From C:\\Users\\Janhavi\\anaconda3\\lib\\site-packages\\keras\\src\\layers\\pooling\\max_pooling2d.py:161: The name tf.nn.max_pool is deprecated. Please use tf.nn.max_pool2d instead.\n",
      "\n"
     ]
    }
   ],
   "source": [
    "model = Sequential()\n",
    "model.add(Conv2D(filters=32, kernel_size=(3, 3), activation='relu', input_shape=(28,28,1)))\n",
    "model.add(MaxPool2D(pool_size=(2, 2), strides=2))\n",
    "model.add(Conv2D(filters=64, kernel_size=(3, 3), activation='relu', padding = 'same'))\n",
    "model.add(MaxPool2D(pool_size=(2, 2), strides=2))\n",
    "model.add(Conv2D(filters=128, kernel_size=(3, 3), activation='relu', padding = 'valid'))\n",
    "model.add(MaxPool2D(pool_size=(2, 2), strides=2))\n",
    "model.add(Flatten())\n",
    "model.add(Dense(64,activation =\"relu\"))\n",
    "model.add(Dense(128,activation =\"relu\"))\n",
    "# model.add(Dense(26,activation =\"softmax\"))\n",
    "model.add(Dense(26, kernel_regularizer = l2(0.01),activation= \"softmax\"))"
   ]
  },
  {
   "cell_type": "code",
   "execution_count": 39,
   "id": "0a505701",
   "metadata": {},
   "outputs": [],
   "source": [
    "# model.compile(optimizer=\"adam\",loss=\"squared_hinge\", metrics = ['accuracy'])\n",
    "model.compile(optimizer = Adam(learning_rate=0.001), loss='categorical_crossentropy', metrics=['accuracy'])\n"
   ]
  },
  {
   "cell_type": "code",
   "execution_count": 40,
   "id": "43e27f9a",
   "metadata": {},
   "outputs": [
    {
     "name": "stdout",
     "output_type": "stream",
     "text": [
      "Epoch 1/10\n",
      "WARNING:tensorflow:From C:\\Users\\Janhavi\\anaconda3\\lib\\site-packages\\keras\\src\\utils\\tf_utils.py:492: The name tf.ragged.RaggedTensorValue is deprecated. Please use tf.compat.v1.ragged.RaggedTensorValue instead.\n",
      "\n",
      "WARNING:tensorflow:From C:\\Users\\Janhavi\\anaconda3\\lib\\site-packages\\keras\\src\\engine\\base_layer_utils.py:384: The name tf.executing_eagerly_outside_functions is deprecated. Please use tf.compat.v1.executing_eagerly_outside_functions instead.\n",
      "\n",
      "661/661 [==============================] - 20s 25ms/step - loss: 0.9073 - accuracy: 0.8007 - val_loss: 0.4016 - val_accuracy: 0.9305\n",
      "Epoch 2/10\n",
      "661/661 [==============================] - 16s 25ms/step - loss: 0.3364 - accuracy: 0.9355 - val_loss: 0.2879 - val_accuracy: 0.9468\n",
      "Epoch 3/10\n",
      "661/661 [==============================] - 19s 29ms/step - loss: 0.2261 - accuracy: 0.9567 - val_loss: 0.2392 - val_accuracy: 0.9502\n",
      "Epoch 4/10\n",
      "661/661 [==============================] - 19s 29ms/step - loss: 0.1766 - accuracy: 0.9645 - val_loss: 0.1898 - val_accuracy: 0.9620\n",
      "Epoch 5/10\n",
      "661/661 [==============================] - 19s 28ms/step - loss: 0.1393 - accuracy: 0.9723 - val_loss: 0.1638 - val_accuracy: 0.9665\n",
      "Epoch 6/10\n",
      "661/661 [==============================] - 17s 25ms/step - loss: 0.1224 - accuracy: 0.9762 - val_loss: 0.1372 - val_accuracy: 0.9724\n",
      "Epoch 7/10\n",
      "661/661 [==============================] - 16s 24ms/step - loss: 0.0981 - accuracy: 0.9811 - val_loss: 0.1132 - val_accuracy: 0.9782\n",
      "Epoch 8/10\n",
      "661/661 [==============================] - 17s 26ms/step - loss: 0.0836 - accuracy: 0.9843 - val_loss: 0.1229 - val_accuracy: 0.9748\n",
      "Epoch 9/10\n",
      "661/661 [==============================] - 17s 26ms/step - loss: 0.0793 - accuracy: 0.9854 - val_loss: 0.1097 - val_accuracy: 0.9798\n",
      "Epoch 10/10\n",
      "661/661 [==============================] - 17s 25ms/step - loss: 0.0686 - accuracy: 0.9879 - val_loss: 0.1229 - val_accuracy: 0.9741\n"
     ]
    }
   ],
   "source": [
    "history = model.fit(X_train, ytr_ohe, epochs=10,  validation_data = (X_test, ytst_ohe))"
   ]
  },
  {
   "cell_type": "code",
   "execution_count": 41,
   "id": "85b4cbb4",
   "metadata": {},
   "outputs": [
    {
     "name": "stdout",
     "output_type": "stream",
     "text": [
      "validation accuracy : [0.9305450320243835, 0.9468206167221069, 0.9502270817756653, 0.9619606137275696, 0.9665026664733887, 0.9723694324493408, 0.978236198425293, 0.9748296737670898, 0.9797502160072327, 0.9740726947784424]\n",
      "training accuracy : [0.8006814122200012, 0.9354533553123474, 0.9567480683326721, 0.9644615054130554, 0.9722695350646973, 0.9761972427368164, 0.9810713529586792, 0.9842892289161682, 0.9854249358177185, 0.9878856539726257]\n",
      "validation loss : [0.40162500739097595, 0.2878623902797699, 0.23916243016719818, 0.18984654545783997, 0.16382138431072235, 0.13723613321781158, 0.11324380338191986, 0.12286213785409927, 0.10968242585659027, 0.12289539724588394]\n",
      "training loss : [0.9072678089141846, 0.3364036977291107, 0.22607862949371338, 0.17663459479808807, 0.1393134891986847, 0.12235905975103378, 0.09810729324817657, 0.08360574394464493, 0.07927059382200241, 0.06862291693687439]\n"
     ]
    }
   ],
   "source": [
    "print(\"validation accuracy :\", history.history['val_accuracy'])\n",
    "print(\"training accuracy :\", history.history['accuracy'])\n",
    "print(\"validation loss :\", history.history['val_loss'])\n",
    "print(\"training loss :\", history.history['loss'])"
   ]
  },
  {
   "cell_type": "code",
   "execution_count": 42,
   "id": "91e7513b",
   "metadata": {},
   "outputs": [],
   "source": [
    "import matplotlib.pyplot as plt"
   ]
  },
  {
   "cell_type": "code",
   "execution_count": 46,
   "id": "4ecfa480",
   "metadata": {},
   "outputs": [
    {
     "data": {
      "image/png": "[encoded data removed]",
      "text/plain": [
       "<Figure size 800x900 with 9 Axes>"
      ]
     },
     "metadata": {},
     "output_type": "display_data"
    }
   ],
   "source": [
    "fig, axes = plt.subplots(3,3, figsize=(8,9))\n",
    "axes = axes.flatten()\n",
    "for i,ax in enumerate(axes):\n",
    "    img = np.reshape(X_test[i], (28,28))\n",
    "    ax.imshow(img, cmap=\"Greys\")\n",
    "    \n",
    "    pred = letrs_dict[np.argmax(ytst_ohe[i])]\n",
    "    ax.set_title(\"Prediction: \"+pred)\n",
    "    ax.grid()"
   ]
  }
 ],
 "metadata": {
  "kernelspec": {
   "display_name": "Python 3 (ipykernel)",
   "language": "python",
   "name": "python3"
  },
  "language_info": {
   "codemirror_mode": {
    "name": "ipython",
    "version": 3
   },
   "file_extension": ".py",
   "mimetype": "text/x-python",
   "name": "python",
   "nbconvert_exporter": "python",
   "pygments_lexer": "ipython3",
   "version": "3.10.9"
  }
 },
 "nbformat": 4,
 "nbformat_minor": 5
}
